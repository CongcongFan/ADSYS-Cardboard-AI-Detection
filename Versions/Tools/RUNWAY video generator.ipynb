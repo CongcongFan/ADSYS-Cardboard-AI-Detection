{
 "cells": [
  {
   "cell_type": "code",
   "execution_count": 10,
   "id": "25042b50",
   "metadata": {},
   "outputs": [
    {
     "name": "stdout",
     "output_type": "stream",
     "text": [
      "Saved: cardboard_right_to_left.mp4\n"
     ]
    }
   ],
   "source": [
    "# pip install runwayml requests pillow\n",
    "from runwayml import RunwayML, TaskFailedError\n",
    "import base64, mimetypes, io, requests\n",
    "from PIL import Image\n",
    "\n",
    "API_KEY = \"key_c6d1952d237e03037fff2dce161f83f8d654ba48fc6032d3798157cb7654090e64f7b5d935349079c2ec04036c6f30c8a6afe92db66eb3756ef8cdb023a08582\"\n",
    "\n",
    "IMAGE_PATH = r\"C:\\Users\\76135\\Desktop\\ADSYS-Cardboard-AI-Detection\\Versions\\V2 Nanobanana Sythetic cardboard bundle dataset\\Nano_banana\\dataset\\standard images  (8).png\"\n",
    "OUTPUT_PATH = \"cardboard_right_to_left.mp4\"\n",
    "\n",
    "# Minimal, stable, single-action prompt\n",
    "PROMPT = (\n",
    "    \"The objects tavels slowly over a conveyor.\"\n",
    ")\n",
    "\n",
    "def image_to_data_uri(path, max_bytes=5*1024*1024 - 2048):\n",
    "    # Prefer original; if too big for data URI, re-encode as JPEG until it fits (~5 MB base64 cap)\n",
    "    mime = mimetypes.guess_type(path)[0] or \"image/png\"\n",
    "    with open(path, \"rb\") as f:\n",
    "        raw = f.read()\n",
    "    uri = f\"data:{mime};base64,{base64.b64encode(raw).decode('utf-8')}\"\n",
    "    if len(uri.encode(\"utf-8\")) < max_bytes:\n",
    "        return uri\n",
    "\n",
    "    img = Image.open(path).convert(\"RGB\")\n",
    "    for q in (95, 90, 85, 80, 75, 70, 60):\n",
    "        buf = io.BytesIO()\n",
    "        img.save(buf, format=\"JPEG\", quality=q, optimize=True)\n",
    "        uri = f\"data:image/jpeg;base64,{base64.b64encode(buf.getvalue()).decode('utf-8')}\"\n",
    "        if len(uri.encode(\"utf-8\")) < max_bytes:\n",
    "            return uri\n",
    "    raise ValueError(\"Image too large for data URI; consider hosting it and passing the https URL.\")\n",
    "\n",
    "def main():\n",
    "    client = RunwayML(api_key=API_KEY)\n",
    "    data_uri = image_to_data_uri(IMAGE_PATH)\n",
    "\n",
    "    try:\n",
    "        task = client.image_to_video.create(\n",
    "            model=\"gen4_turbo\",\n",
    "            prompt_image=data_uri,\n",
    "            prompt_text=PROMPT,\n",
    "            ratio=\"960:960\",\n",
    "            duration=5,\n",
    "            # seed=42,  # helps with consistency across retries\n",
    "            extra_headers={\"X-Runway-Version\": \"2024-11-06\"},\n",
    "        ).wait_for_task_output()\n",
    "\n",
    "        video_url = task.output[0]\n",
    "        r = requests.get(video_url, timeout=300)\n",
    "        r.raise_for_status()\n",
    "        with open(OUTPUT_PATH, \"wb\") as f:\n",
    "            f.write(r.content)\n",
    "        print(f\"Saved: {OUTPUT_PATH}\")\n",
    "    except TaskFailedError as e:\n",
    "        print(\"Generation failed:\")\n",
    "        print(e.task_details)\n",
    "\n",
    "if __name__ == \"__main__\":\n",
    "    main()\n"
   ]
  }
 ],
 "metadata": {
  "kernelspec": {
   "display_name": ".venv_cardboard_Yolo",
   "language": "python",
   "name": "python3"
  },
  "language_info": {
   "codemirror_mode": {
    "name": "ipython",
    "version": 3
   },
   "file_extension": ".py",
   "mimetype": "text/x-python",
   "name": "python",
   "nbconvert_exporter": "python",
   "pygments_lexer": "ipython3",
   "version": "3.12.10"
  }
 },
 "nbformat": 4,
 "nbformat_minor": 5
}
