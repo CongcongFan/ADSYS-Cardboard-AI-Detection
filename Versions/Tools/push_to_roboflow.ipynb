{
 "cells": [
  {
   "cell_type": "code",
   "execution_count": 1,
   "id": "42e90a31",
   "metadata": {},
   "outputs": [
    {
     "name": "stdout",
     "output_type": "stream",
     "text": [
      "loading Roboflow workspace...\n",
      "loading Roboflow project...\n",
      "View the status of your deployment at: https://app.roboflow.com/boxes-jdugd/synthetic_finished_cardboard_b-tflkf/7\n",
      "Share your model with the world at: https://universe.roboflow.com/boxes-jdugd/synthetic_finished_cardboard_b-tflkf/model/7\n"
     ]
    }
   ],
   "source": [
    "from roboflow import Roboflow\n",
    "\n",
    "rf = Roboflow(api_key=\"yiXU9DZrZTOcO2taUh0g\")\n",
    "project = rf.workspace().project(\"synthetic_finished_cardboard_b-tflkf\")\n",
    "\n",
    "#can specify weights_filename, default is \"weights/best.pt\"\n",
    "version = project.version(\"7\")\n",
    "\n",
    "#example1 - directory path is \"training1/model1.pt\" for yolov8 model\n",
    "version.deploy(\"yolov11\", \"models/weights\", \"model_- 6 september 2025 11_35.pt\")\n",
    "\n",
    "#example2 - directory path is \"training1/weights/best.pt\" for yolov8 model\n",
    "# version.deploy(\"yolov8\", \"training1\")"
   ]
  }
 ],
 "metadata": {
  "kernelspec": {
   "display_name": "Python 3",
   "language": "python",
   "name": "python3"
  },
  "language_info": {
   "codemirror_mode": {
    "name": "ipython",
    "version": 3
   },
   "file_extension": ".py",
   "mimetype": "text/x-python",
   "name": "python",
   "nbconvert_exporter": "python",
   "pygments_lexer": "ipython3",
   "version": "3.12.10"
  }
 },
 "nbformat": 4,
 "nbformat_minor": 5
}
