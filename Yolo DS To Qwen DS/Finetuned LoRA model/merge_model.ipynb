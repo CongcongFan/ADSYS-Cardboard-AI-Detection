{
 "cells": [
  {
   "cell_type": "code",
   "execution_count": 1,
   "id": "ee4d0b54",
   "metadata": {},
   "outputs": [
    {
     "name": "stdout",
     "output_type": "stream",
     "text": [
      "True\n",
      "1\n",
      "NVIDIA GeForce RTX 3060 Laptop GPU\n"
     ]
    }
   ],
   "source": [
    "\n",
    "import torch\n",
    "print(torch.cuda.is_available())\n",
    "print(torch.cuda.device_count())\n",
    "print(torch.cuda.get_device_name(0)) # Check the name of the first detected device\n",
    "import os\n",
    "os.environ[\"CUDA_VISIBLE_DEVICES\"] = \"0\" # Make only the discrete GPU visible as device 0"
   ]
  },
  {
   "cell_type": "code",
   "execution_count": 2,
   "id": "7aed858a",
   "metadata": {},
   "outputs": [
    {
     "data": {
      "application/vnd.jupyter.widget-view+json": {
       "model_id": "fcd8d5c5abb441dc81ead4f384bee9ef",
       "version_major": 2,
       "version_minor": 0
      },
      "text/plain": [
       "Loading checkpoint shards:   0%|          | 0/5 [00:00<?, ?it/s]"
      ]
     },
     "metadata": {},
     "output_type": "display_data"
    }
   ],
   "source": [
    "from transformers import AutoModelForCausalLM, AutoTokenizer\n",
    "from peft import PeftModel\n",
    "\n",
    "from transformers import Qwen2_5_VLForConditionalGeneration, AutoTokenizer, AutoProcessor\n",
    "\n",
    "\n",
    "# default: Load the model on the available device(s)\n",
    "model = Qwen2_5_VLForConditionalGeneration.from_pretrained(\n",
    "    \"Qwen/Qwen2.5-VL-7B-Instruct\", torch_dtype=\"auto\", device_map={\"\": 0}\n",
    ")\n",
    "\n"
   ]
  },
  {
   "cell_type": "code",
   "execution_count": 9,
   "id": "1245c4d4",
   "metadata": {},
   "outputs": [
    {
     "name": "stdout",
     "output_type": "stream",
     "text": [
      " Volume in drive C is OS\n",
      " Volume Serial Number is 204F-6150\n",
      "\n",
      " Directory of c:\\Users\\76135\\Desktop\\ADSYS-Cardboard-AI-Detection\\Yolo DS To Qwen DS\\Finetuned LoRA model\n",
      "\n",
      "26/08/2025  09:13 AM    <DIR>          .\n",
      "26/08/2025  09:13 AM    <DIR>          ..\n",
      "26/08/2025  09:13 AM                 0 merge_model.ipynb\n",
      "26/08/2025  09:18 AM    <DIR>          V1 26-08-2025 Qwen 2.5vl_7b\n",
      "               1 File(s)              0 bytes\n",
      "               3 Dir(s)  187,694,915,584 bytes free\n"
     ]
    }
   ],
   "source": [
    "!dir"
   ]
  },
  {
   "cell_type": "code",
   "execution_count": 3,
   "id": "14df9dee",
   "metadata": {},
   "outputs": [],
   "source": [
    "\n",
    "# 2. Attach LoRA\n",
    "peft_model = PeftModel.from_pretrained(model, \"./V1 26-08-2025 Qwen 2.5vl_7b/lora_model\")\n",
    "\n",
    "# 3. Merge LoRA weights into base\n",
    "merged_model = peft_model.merge_and_unload()\n",
    "\n",
    "# 4. Save merged model\n",
    "merged_model.save_pretrained(\"./V1 26-08-2025 Qwen 2.5vl_7b/qwen2.5-vl-7b-lora-merged\")"
   ]
  },
  {
   "cell_type": "code",
   "execution_count": null,
   "id": "ecabb0c0",
   "metadata": {},
   "outputs": [],
   "source": [
    "python convert-hf-to-gguf.py \\\n",
    "  --outtype q5_k_m \\\n",
    "  --model qwen2_5_vl \\\n",
    "  /Yolo DS To Qwen DS/Finetuned LoRA model/V1 26-08-2025 Qwen 2.5vl_7b/qwen2.5-vl-7b-lora-merged \\\n",
    "  -o /Yolo DS To Qwen DS/Finetuned LoRA model/V1 26-08-2025 Qwen 2.5vl_7b/qwen2.5-vl-7b-lora-merged/qwen25vl-7b-cardboard-q5_k_m.gguf"
   ]
  }
 ],
 "metadata": {
  "kernelspec": {
   "display_name": "Python 3",
   "language": "python",
   "name": "python3"
  },
  "language_info": {
   "codemirror_mode": {
    "name": "ipython",
    "version": 3
   },
   "file_extension": ".py",
   "mimetype": "text/x-python",
   "name": "python",
   "nbconvert_exporter": "python",
   "pygments_lexer": "ipython3",
   "version": "3.12.10"
  }
 },
 "nbformat": 4,
 "nbformat_minor": 5
}
