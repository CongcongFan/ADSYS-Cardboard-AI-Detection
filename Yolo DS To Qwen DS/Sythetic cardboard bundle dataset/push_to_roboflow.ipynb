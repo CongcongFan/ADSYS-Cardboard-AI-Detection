{
 "cells": [
  {
   "cell_type": "code",
   "execution_count": null,
   "id": "7bbb4192",
   "metadata": {},
   "outputs": [
    {
     "name": "stdout",
     "output_type": "stream",
     "text": [
      "loading Roboflow workspace...\n",
      "View the status of your deployment for project synthetic_finished_cardboard_b-tflkf at: https://app.roboflow.com/boxes-jdugd/synthetic_finished_cardboard_b-tflkf/models\n"
     ]
    },
    {
     "ename": "",
     "evalue": "",
     "output_type": "error",
     "traceback": [
      "\u001b[1;31mThe Kernel crashed while executing code in the current cell or a previous cell. \n",
      "\u001b[1;31mPlease review the code in the cell(s) to identify a possible cause of the failure. \n",
      "\u001b[1;31mClick <a href='https://aka.ms/vscodeJupyterKernelCrash'>here</a> for more info. \n",
      "\u001b[1;31mView Jupyter <a href='command:jupyter.viewOutput'>log</a> for further details."
     ]
    }
   ],
   "source": [
    "from roboflow import Roboflow\n",
    "\n",
    "rf = Roboflow(api_key=\"yiXU9DZrZTOcO2taUh0g\")\n",
    "workspace = rf.workspace(\"boxes-jdugd\")\n",
    "\n",
    "workspace.deploy_model(\n",
    "  model_type=\"yolov11\",\n",
    "  model_path=\"./models\",\n",
    "  project_ids=[\"synthetic_finished_cardboard_b-tflkf\"],\n",
    "  model_name=\"yolov11-labeler\"\n",
    ")"
   ]
  }
 ],
 "metadata": {
  "kernelspec": {
   "display_name": "Python 3",
   "language": "python",
   "name": "python3"
  },
  "language_info": {
   "codemirror_mode": {
    "name": "ipython",
    "version": 3
   },
   "file_extension": ".py",
   "mimetype": "text/x-python",
   "name": "python",
   "nbconvert_exporter": "python",
   "pygments_lexer": "ipython3",
   "version": "3.12.10"
  }
 },
 "nbformat": 4,
 "nbformat_minor": 5
}
